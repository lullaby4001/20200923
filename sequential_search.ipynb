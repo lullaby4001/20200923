{
  "nbformat": 4,
  "nbformat_minor": 0,
  "metadata": {
    "colab": {
      "name": "Untitled1.ipynb",
      "provenance": [],
      "collapsed_sections": [],
      "authorship_tag": "ABX9TyMqPVcdaF4xYWsX3Zgpxqvs",
      "include_colab_link": true
    },
    "kernelspec": {
      "name": "python3",
      "display_name": "Python 3"
    }
  },
  "cells": [
    {
      "cell_type": "markdown",
      "metadata": {
        "id": "view-in-github",
        "colab_type": "text"
      },
      "source": [
        "<a href=\"https://colab.research.google.com/github/lullaby4001/20200923/blob/master/sequential_search.ipynb\" target=\"_parent\"><img src=\"https://colab.research.google.com/assets/colab-badge.svg\" alt=\"Open In Colab\"/></a>"
      ]
    },
    {
      "cell_type": "code",
      "metadata": {
        "id": "nsh53Z71KU-d",
        "outputId": "8a0bc73b-e78e-491b-fd36-159a075ce101",
        "colab": {
          "base_uri": "https://localhost:8080/",
          "height": 35
        }
      },
      "source": [
        "data = [20,31,50,17,16,36,19,8]\n",
        "def sequential_search(data,key):\n",
        "\tfor i in data:\n",
        "\t\tif i == key:\n",
        "\t\t\tprint(\"找到了\")\n",
        "\t\t\tbreak\n",
        "sequential_search(data,31)"
      ],
      "execution_count": 22,
      "outputs": [
        {
          "output_type": "stream",
          "text": [
            "找到了\n"
          ],
          "name": "stdout"
        }
      ]
    },
    {
      "cell_type": "code",
      "metadata": {
        "id": "niRCsm462Azm"
      },
      "source": [
        ""
      ],
      "execution_count": null,
      "outputs": []
    },
    {
      "cell_type": "code",
      "metadata": {
        "id": "0c--Nl8qxEJS",
        "outputId": "ac37cdfb-5c10-47fc-ad77-446af385af3e",
        "colab": {
          "base_uri": "https://localhost:8080/",
          "height": 35
        }
      },
      "source": [
        "data = [1, 2, 3, 4, 5, 6, 7, 8]\n",
        "\n",
        "def sequential_search(data, key):\n",
        "    tmp = [0] * (len(data) + 1)    #設一個空陣列，長度為data長度+1\n",
        "    for i in range(1, len(data)):  #將data的值給到tmp\n",
        "        tmp[i] = data[i - 1]\n",
        "    tmp[0] = key                   #設定key值\n",
        "    i = len(data)                  #設定索引並開始比較\n",
        "    while tmp[i] != tmp[0]:\n",
        "        i -= 1\n",
        "    return i - 1                   #回傳索引\n",
        "\n",
        "index = sequential_search(data, 2)\n",
        "if index >= 0:\n",
        "    print(\"finde the index: \" + str(index))\n",
        "else:\n",
        "    print(\"can't find the index\")"
      ],
      "execution_count": 23,
      "outputs": [
        {
          "output_type": "stream",
          "text": [
            "finde the index: 1\n"
          ],
          "name": "stdout"
        }
      ]
    },
    {
      "cell_type": "code",
      "metadata": {
        "id": "9Htg9PhMxEv1"
      },
      "source": [
        ""
      ],
      "execution_count": null,
      "outputs": []
    },
    {
      "cell_type": "code",
      "metadata": {
        "id": "Ax9PbubTOxaQ"
      },
      "source": [
        ""
      ],
      "execution_count": null,
      "outputs": []
    }
  ]
}