{
  "nbformat": 4,
  "nbformat_minor": 0,
  "metadata": {
    "colab": {
      "name": "Untitled1.ipynb",
      "provenance": [],
      "collapsed_sections": [],
      "authorship_tag": "ABX9TyOTX5Ui+9GNur5prGRFi0FO",
      "include_colab_link": true
    },
    "kernelspec": {
      "name": "python3",
      "display_name": "Python 3"
    }
  },
  "cells": [
    {
      "cell_type": "markdown",
      "metadata": {
        "id": "view-in-github",
        "colab_type": "text"
      },
      "source": [
        "<a href=\"https://colab.research.google.com/github/lullaby4001/20200923/blob/master/sequential_search.ipynb\" target=\"_parent\"><img src=\"https://colab.research.google.com/assets/colab-badge.svg\" alt=\"Open In Colab\"/></a>"
      ]
    },
    {
      "cell_type": "code",
      "metadata": {
        "id": "nsh53Z71KU-d",
        "outputId": "8a0bc73b-e78e-491b-fd36-159a075ce101",
        "colab": {
          "base_uri": "https://localhost:8080/",
          "height": 35
        }
      },
      "source": [
        "data = [20,31,50,17,16,36,19,8]\n",
        "def sequential_search(data,key):\n",
        "\tfor i in data:\n",
        "\t\tif i == key:\n",
        "\t\t\tprint(\"找到了\")\n",
        "\t\t\tbreak\n",
        "sequential_search(data,31)"
      ],
      "execution_count": 22,
      "outputs": [
        {
          "output_type": "stream",
          "text": [
            "找到了\n"
          ],
          "name": "stdout"
        }
      ]
    },
    {
      "cell_type": "code",
      "metadata": {
        "id": "0c--Nl8qxEJS",
        "outputId": "9f028919-b87b-43c1-d591-7acb43ead7ea",
        "colab": {
          "base_uri": "https://localhost:8080/",
          "height": 139
        }
      },
      "source": [
        "data = [20,21,50,17,16,36,19,8]\n",
        "def sequential_search(data,key):\n",
        "  for i, t in enumerate(data):\n",
        "    if t == key:\n",
        "      print(\"找到\")\n",
        "      break\n",
        "    else:\n",
        "      print(\"沒找到%s次\" % str(i+1) )\n",
        "      print(\"這次找的數是\",t)\n",
        "\n",
        "sequential_search(data,17)"
      ],
      "execution_count": 24,
      "outputs": [
        {
          "output_type": "stream",
          "text": [
            "沒找到1次\n",
            "這次找的數是 20\n",
            "沒找到2次\n",
            "這次找的數是 21\n",
            "沒找到3次\n",
            "這次找的數是 50\n",
            "找到\n"
          ],
          "name": "stdout"
        }
      ]
    }
  ]
}