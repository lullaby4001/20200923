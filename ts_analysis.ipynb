{
  "nbformat": 4,
  "nbformat_minor": 0,
  "metadata": {
    "colab": {
      "name": "Untitled1.ipynb",
      "provenance": [],
      "authorship_tag": "ABX9TyNgFchA1i3pddScO9ia3Y7A",
      "include_colab_link": true
    },
    "kernelspec": {
      "name": "python3",
      "display_name": "Python 3"
    }
  },
  "cells": [
    {
      "cell_type": "markdown",
      "metadata": {
        "id": "view-in-github",
        "colab_type": "text"
      },
      "source": [
        "<a href=\"https://colab.research.google.com/github/lullaby4001/20200923/blob/master/ts_analysis.ipynb\" target=\"_parent\"><img src=\"https://colab.research.google.com/assets/colab-badge.svg\" alt=\"Open In Colab\"/></a>"
      ]
    },
    {
      "cell_type": "code",
      "metadata": {
        "id": "nsh53Z71KU-d",
        "outputId": "19ef2d54-ed04-4314-8282-2f4503c63e79",
        "colab": {
          "base_uri": "https://localhost:8080/",
          "height": 130
        }
      },
      "source": [
        "//空間換時間\n",
        "#include <stdio.h> \t\n",
        "int main()\n",
        "{\n",
        "\tint n , flag = 0 ; //宣告整數變數 n 與整數變數 flag (初值為 0 ，是用來記錄搜尋的結果) \n",
        "\tint i , data[11] ; //宣告整數變數 i 與整數陣列 data \n",
        "\t{\n",
        "\t    data[0] = 2000 ; //設定陣列的第一個元素為2000 \n",
        "\t    data[1] = 2004 ; //設定陣列的第二個元素為2004 \n",
        "\t    data[2] = 2008 ; //設定陣列的第三個元素為2008  \n",
        "\t    data[3] = 2012 ; //設定陣列的第四個元素為2012  \n",
        "\t    data[4] = 2016 ; //設定陣列的第五個元素為2016  \n",
        "\t    data[5] = 2020 ; //設定陣列的第六個元素為2020  \n",
        "\t    data[6] = 2024 ; //設定陣列的第七個元素為2024  \n",
        "\t    data[7] = 2028 ; //設定陣列的第八個元素為2028  \n",
        "\t    data[8] = 2032 ; //設定陣列的第九個元素為2032  \n",
        "\t    data[9] = 2036 ; //設定陣列的第十個元素為2036  \n",
        "\t    data[10] = 2040 ; //設定陣列的第十一個元素為2040  \n",
        "\t\n",
        "\t\tprintf(\"請輸入年份：\");\n",
        "\t    scanf(\"%d\",&n);\n",
        "\t    for(i=0;i<11;i++)\n",
        "\t\t\tif(data[i]==n)\n",
        "\t        {\n",
        "\t            printf(\"%d為閏年\\n\",n);\n",
        "\t            flag = 1 ; //設 flag 為 1 ，代表有找到相同的數值 \n",
        "\t        }\n",
        "\t    if(flag==0)\n",
        "\t\t    printf(\"%d不為閏年\\n\",n);   \n",
        "    }\n",
        "}\n",
        "\n",
        "//時間換空間 \n",
        "#include <stdio.h>\n",
        "int main()\n",
        "{\n",
        "    int n;\n",
        "    while(1)\n",
        "    {\n",
        "    \tprintf(\"請輸入年份：\");\n",
        "    \tscanf(\"%d\",&n);                      //輸入一個整數 n\n",
        "        if(n%4==0 && n%100!=0 || n%400==0)   //判斷 n 是否符合閏年的狀況 \n",
        "            printf(\"%d 為閏年\",n);           //若為閏年就印出\" n 為閏年\" \n",
        "        else\n",
        "            printf(\"%d 不為閏年\",n);         //若不為閏年就印出\" n 不為閏年\" \n",
        "        printf(\"\\n\");\n",
        "    }\n",
        "}"
      ],
      "execution_count": 5,
      "outputs": [
        {
          "output_type": "error",
          "ename": "SyntaxError",
          "evalue": "ignored",
          "traceback": [
            "\u001b[0;36m  File \u001b[0;32m\"<ipython-input-5-f352020465ef>\"\u001b[0;36m, line \u001b[0;32m2\u001b[0m\n\u001b[0;31m    int main()\u001b[0m\n\u001b[0m           ^\u001b[0m\n\u001b[0;31mSyntaxError\u001b[0m\u001b[0;31m:\u001b[0m invalid syntax\n"
          ]
        }
      ]
    }
  ]
}