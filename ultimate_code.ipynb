{
  "nbformat": 4,
  "nbformat_minor": 0,
  "metadata": {
    "colab": {
      "name": "Untitled3.ipynb",
      "provenance": [],
      "authorship_tag": "ABX9TyPfPnp6gMutuzVRy1dS1aUY",
      "include_colab_link": true
    },
    "kernelspec": {
      "name": "python3",
      "display_name": "Python 3"
    }
  },
  "cells": [
    {
      "cell_type": "markdown",
      "metadata": {
        "id": "view-in-github",
        "colab_type": "text"
      },
      "source": [
        "<a href=\"https://colab.research.google.com/github/lullaby4001/20200923/blob/master/ultimate_code.ipynb\" target=\"_parent\"><img src=\"https://colab.research.google.com/assets/colab-badge.svg\" alt=\"Open In Colab\"/></a>"
      ]
    },
    {
      "cell_type": "markdown",
      "metadata": {
        "id": "4Tl4Q_2uF9_d"
      },
      "source": [
        "Ultimate Code (終極密碼)"
      ]
    },
    {
      "cell_type": "code",
      "metadata": {
        "id": "oH9d1P-KEWD1",
        "outputId": "58731ab1-9d80-4e96-b27b-361b63db504c",
        "colab": {
          "base_uri": "https://localhost:8080/"
        }
      },
      "source": [
        "from random import randint\n",
        " \n",
        "#規定範圍並產生密碼\n",
        "lowest = 1\n",
        "highest = 100\n",
        "answer = randint(lowest, highest)\n",
        " \n",
        "#重複猜數字，直到猜對為止\n",
        "while True:\n",
        "    guess = input('密碼介於 ' + str(lowest) + '-' + str(highest) + ':\\n>>')\n",
        " \n",
        "    #檢查輸入的內容是否為數字\n",
        "    try:\n",
        "        guess = int(guess)  #把字串轉換成整數\n",
        "    except ValueError:  #轉換失敗便要求重新輸入數字\n",
        "        print('格式錯誤，請輸入數字\\n')\n",
        "        continue\n",
        " \n",
        "        #檢查輸入的數字是否介於規定範圍內\n",
        "    if guess <= lowest or guess >= highest:\n",
        "        print('請輸入 ' + str(lowest) + '-' + str(highest) + ' 之間的整數\\n')\n",
        "        continue\n",
        " \n",
        "        #判斷有沒有猜中密碼\n",
        "    if guess == answer:\n",
        "        print('答對了！')\n",
        "        break   #猜對才跳脫迴圈\n",
        "    elif guess < answer:\n",
        "        lowest = guess\n",
        "    else:\n",
        "        highest = guess"
      ],
      "execution_count": null,
      "outputs": [
        {
          "output_type": "stream",
          "text": [
            "密碼介於 1-100:\n",
            ">>50\n",
            "密碼介於 50-100:\n",
            ">>65\n",
            "密碼介於 65-100:\n",
            ">>75\n",
            "密碼介於 75-100:\n",
            ">>95\n",
            "密碼介於 75-95:\n",
            ">>80\n",
            "密碼介於 80-95:\n",
            ">>83\n",
            "答對了！\n"
          ],
          "name": "stdout"
        }
      ]
    }
  ]
}