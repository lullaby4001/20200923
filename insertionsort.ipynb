{
  "nbformat": 4,
  "nbformat_minor": 0,
  "metadata": {
    "colab": {
      "name": "insertionsort.ipynb",
      "provenance": [],
      "collapsed_sections": [],
      "include_colab_link": true
    },
    "kernelspec": {
      "name": "python3",
      "display_name": "Python 3"
    }
  },
  "cells": [
    {
      "cell_type": "markdown",
      "metadata": {
        "id": "view-in-github",
        "colab_type": "text"
      },
      "source": [
        "<a href=\"https://colab.research.google.com/github/lullaby4001/20200923/blob/master/insertionsort.ipynb\" target=\"_parent\"><img src=\"https://colab.research.google.com/assets/colab-badge.svg\" alt=\"Open In Colab\"/></a>"
      ]
    },
    {
      "cell_type": "markdown",
      "metadata": {
        "id": "j95w6SLwOC0z"
      },
      "source": [
        "Insertion sort (插入排序)"
      ]
    },
    {
      "cell_type": "code",
      "metadata": {
        "id": "BxBaYEwzNj_v",
        "colab": {
          "base_uri": "https://localhost:8080/",
          "height": 306
        },
        "outputId": "639a454e-3af4-40f2-f763-7899d7dc595d"
      },
      "source": [
        "\n",
        "def Insertion_Sort(datas):\n",
        "    for i in range(1, len(datas)):  \n",
        "        for j in range(i):\n",
        "            current = datas[i]\n",
        "            if current < datas[j]:\n",
        "                for k in range(i,j):\n",
        "                  print(datas)\n",
        "    return datas\n",
        "\n",
        "\n",
        "def insertionSort(arr):\n",
        "    for i in range(len(arr)):\n",
        "        preIndex = i-1\n",
        "        current = arr[i]\n",
        "        while preIndex >= 0 and arr[preIndex] > current:\n",
        "            arr[preIndex+1] = arr[preIndex]\n",
        "            preIndex-=1\n",
        "        arr[preIndex+1] = current\n",
        "        print(arr)\n",
        "    return arr\n",
        "\n",
        "if __name__ == '__main__':\n",
        "    import random\n",
        "    a = list(range(16))\n",
        "    random.shuffle(a)\n",
        "    b = a.copy()\n",
        "\n",
        "    arr = insertionSort(a)\n",
        "    print('---'*10)\n",
        "    Insertion_Sort(b)"
      ],
      "execution_count": null,
      "outputs": [
        {
          "output_type": "stream",
          "text": [
            "[10, 5, 15, 12, 7, 13, 2, 14, 3, 6, 4, 11, 1, 8, 0, 9]\n",
            "[5, 10, 15, 12, 7, 13, 2, 14, 3, 6, 4, 11, 1, 8, 0, 9]\n",
            "[5, 10, 15, 12, 7, 13, 2, 14, 3, 6, 4, 11, 1, 8, 0, 9]\n",
            "[5, 10, 12, 15, 7, 13, 2, 14, 3, 6, 4, 11, 1, 8, 0, 9]\n",
            "[5, 7, 10, 12, 15, 13, 2, 14, 3, 6, 4, 11, 1, 8, 0, 9]\n",
            "[5, 7, 10, 12, 13, 15, 2, 14, 3, 6, 4, 11, 1, 8, 0, 9]\n",
            "[2, 5, 7, 10, 12, 13, 15, 14, 3, 6, 4, 11, 1, 8, 0, 9]\n",
            "[2, 5, 7, 10, 12, 13, 14, 15, 3, 6, 4, 11, 1, 8, 0, 9]\n",
            "[2, 3, 5, 7, 10, 12, 13, 14, 15, 6, 4, 11, 1, 8, 0, 9]\n",
            "[2, 3, 5, 6, 7, 10, 12, 13, 14, 15, 4, 11, 1, 8, 0, 9]\n",
            "[2, 3, 4, 5, 6, 7, 10, 12, 13, 14, 15, 11, 1, 8, 0, 9]\n",
            "[2, 3, 4, 5, 6, 7, 10, 11, 12, 13, 14, 15, 1, 8, 0, 9]\n",
            "[1, 2, 3, 4, 5, 6, 7, 10, 11, 12, 13, 14, 15, 8, 0, 9]\n",
            "[1, 2, 3, 4, 5, 6, 7, 8, 10, 11, 12, 13, 14, 15, 0, 9]\n",
            "[0, 1, 2, 3, 4, 5, 6, 7, 8, 10, 11, 12, 13, 14, 15, 9]\n",
            "[0, 1, 2, 3, 4, 5, 6, 7, 8, 9, 10, 11, 12, 13, 14, 15]\n",
            "------------------------------\n"
          ],
          "name": "stdout"
        }
      ]
    },
    {
      "cell_type": "markdown",
      "metadata": {
        "id": "n-rGid6XCh2h"
      },
      "source": [
        "插入排序\n",
        "隨機八個數字，並由小到大排序"
      ]
    },
    {
      "cell_type": "code",
      "metadata": {
        "id": "m38cyya4CfUl",
        "outputId": "8ce1af61-7613-4af6-a868-faf096416773",
        "colab": {
          "base_uri": "https://localhost:8080/"
        }
      },
      "source": [
        "def Insertion_Sort(datas):\n",
        "    for i in range(len(datas)): \n",
        "        for j in range(i):\n",
        "            current = datas[i]\n",
        "            if current < datas[j]:\n",
        "                for k in range(i,j):\n",
        "                  print(datas)\n",
        "    return datas\n",
        "\n",
        "\n",
        "def insertionSort(arr):\n",
        "    for i in range(len(arr)):\n",
        "        preIndex = i-1\n",
        "        current = arr[i]\n",
        "        while preIndex >= 0 and arr[preIndex] > current:\n",
        "            arr[preIndex+1] = arr[preIndex]\n",
        "            preIndex-=1\n",
        "        arr[preIndex+1] = current\n",
        "        print('這是第',i+1,'次插入排序：',arr)\n",
        "        print('---'*18)\n",
        "    return arr\n",
        "\n",
        "if __name__ == '__main__':\n",
        "    import random\n",
        "    a = list(range(1,100,13)) #將數值範圍定義為1~100，並且顯示8個隨機數字(100/8 <= n ，n 取13)\n",
        "    random.shuffle(a)\n",
        "    b = a.copy()\n",
        "    print('原始數列為',a)\n",
        "    print('---'*18)\n",
        "\n",
        "    arr = insertionSort(a)\n",
        "    Insertion_Sort(b)\n",
        "    print('最後的排序結果為',a)"
      ],
      "execution_count": 1,
      "outputs": [
        {
          "output_type": "stream",
          "text": [
            "原始數列為 [79, 53, 92, 40, 27, 1, 14, 66]\n",
            "------------------------------------------------------\n",
            "這是第 1 次插入排序： [79, 53, 92, 40, 27, 1, 14, 66]\n",
            "------------------------------------------------------\n",
            "這是第 2 次插入排序： [53, 79, 92, 40, 27, 1, 14, 66]\n",
            "------------------------------------------------------\n",
            "這是第 3 次插入排序： [53, 79, 92, 40, 27, 1, 14, 66]\n",
            "------------------------------------------------------\n",
            "這是第 4 次插入排序： [40, 53, 79, 92, 27, 1, 14, 66]\n",
            "------------------------------------------------------\n",
            "這是第 5 次插入排序： [27, 40, 53, 79, 92, 1, 14, 66]\n",
            "------------------------------------------------------\n",
            "這是第 6 次插入排序： [1, 27, 40, 53, 79, 92, 14, 66]\n",
            "------------------------------------------------------\n",
            "這是第 7 次插入排序： [1, 14, 27, 40, 53, 79, 92, 66]\n",
            "------------------------------------------------------\n",
            "這是第 8 次插入排序： [1, 14, 27, 40, 53, 66, 79, 92]\n",
            "------------------------------------------------------\n",
            "最後的排序結果為 [1, 14, 27, 40, 53, 66, 79, 92]\n"
          ],
          "name": "stdout"
        }
      ]
    }
  ]
}