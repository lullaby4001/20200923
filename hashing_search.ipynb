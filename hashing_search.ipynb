{
  "nbformat": 4,
  "nbformat_minor": 0,
  "metadata": {
    "colab": {
      "name": "Untitled1.ipynb",
      "provenance": [],
      "collapsed_sections": [],
      "include_colab_link": true
    },
    "kernelspec": {
      "name": "python3",
      "display_name": "Python 3"
    }
  },
  "cells": [
    {
      "cell_type": "markdown",
      "metadata": {
        "id": "view-in-github",
        "colab_type": "text"
      },
      "source": [
        "<a href=\"https://colab.research.google.com/github/lullaby4001/20200923/blob/master/hashing_search.ipynb\" target=\"_parent\"><img src=\"https://colab.research.google.com/assets/colab-badge.svg\" alt=\"Open In Colab\"/></a>"
      ]
    },
    {
      "cell_type": "markdown",
      "metadata": {
        "id": "GXsIb87BI7xC"
      },
      "source": [
        "線性探測法"
      ]
    },
    {
      "cell_type": "code",
      "metadata": {
        "id": "nsh53Z71KU-d",
        "outputId": "02dd94d1-47e6-4113-aa33-8aedacd74c75",
        "colab": {
          "base_uri": "https://localhost:8080/",
          "height": 225
        }
      },
      "source": [
        "import random\n",
        "\n",
        "INDEXBOX=10    #雜湊表最大元素\n",
        "MAXNUM=7      #最大資料個數\n",
        "\n",
        "def print_data(data,max_number):    #列印陣列副程式\n",
        "\tprint('\\t',end='')\n",
        "\tfor i in range(max_number):\n",
        "\t print('[%2d]' %data[i],end='')\n",
        "\tprint()\n",
        " \n",
        "def create_table(num,index):    #建立雜湊表副程式\n",
        "\ttmp=num%INDEXBOX    #雜湊函數=資料%INDEXBOX\n",
        "\twhile True:\n",
        "\t\tif index[tmp]==-1:    #如果資料對應的位置是空的\n",
        "\t\t\tindex[tmp]=num    #則直接存入資料\n",
        "\t\t\tbreak\n",
        "\t\telse:\n",
        "\t\t\ttmp=(tmp+1)%INDEXBOX    #否則往後找位置存取\n",
        "#Main\n",
        "index=[None]*INDEXBOX\n",
        "data=[None]*MAXNUM\n",
        "\n",
        "print('原始陣列值：')\n",
        "for i in range(MAXNUM):    #起始資料值\n",
        "\tdata[i]=random.randint(1,20)\n",
        "for i in range(INDEXBOX):    #清除雜湊表\n",
        "\tindex[i]=-1\n",
        "print_data(data,MAXNUM)    #列印起始資料\n",
        "\n",
        "print('雜湊表內容：')\n",
        "for i in range(MAXNUM):    #建立雜湊表\n",
        "\tcreate_table(data[i],index)\n",
        "\tprint('%2d =>' %data[i],end='')    #列印單一元素的雜湊表位置\n",
        "\tprint_data(index,INDEXBOX)\n",
        "print('完成雜湊表：')\n",
        "print_data(index,INDEXBOX)    #列印最後完成結果"
      ],
      "execution_count": null,
      "outputs": [
        {
          "output_type": "stream",
          "text": [
            "原始陣列值：\n",
            "\t[20][ 4][ 5][ 1][ 3][19][19]\n",
            "雜湊表內容：\n",
            "20 =>\t[20][-1][-1][-1][-1][-1][-1][-1][-1][-1]\n",
            " 4 =>\t[20][-1][-1][-1][ 4][-1][-1][-1][-1][-1]\n",
            " 5 =>\t[20][-1][-1][-1][ 4][ 5][-1][-1][-1][-1]\n",
            " 1 =>\t[20][ 1][-1][-1][ 4][ 5][-1][-1][-1][-1]\n",
            " 3 =>\t[20][ 1][-1][ 3][ 4][ 5][-1][-1][-1][-1]\n",
            "19 =>\t[20][ 1][-1][ 3][ 4][ 5][-1][-1][-1][19]\n",
            "19 =>\t[20][ 1][19][ 3][ 4][ 5][-1][-1][-1][19]\n",
            "完成雜湊表：\n",
            "\t[20][ 1][19][ 3][ 4][ 5][-1][-1][-1][19]\n"
          ],
          "name": "stdout"
        }
      ]
    },
    {
      "cell_type": "markdown",
      "metadata": {
        "id": "U9kRiLxqJJec"
      },
      "source": [
        "平方探測\n"
      ]
    },
    {
      "cell_type": "code",
      "metadata": {
        "id": "Ax9PbubTOxaQ",
        "outputId": "c793f762-3012-4f26-ce5f-01e4c59c5bc5",
        "colab": {
          "base_uri": "https://localhost:8080/",
          "height": 260
        }
      },
      "source": [
        "import random\n",
        "INDEXBOX=10\n",
        "MAXNUM=7\n",
        "def print_data(data,max_number):\n",
        "  print('\\t',end='')\n",
        "  for i in range(max_number):\n",
        "    print('[%2d] '%data[i],end='')\n",
        "  print()\n",
        "def create_table(num,index):\n",
        "  tmp=num%INDEXBOX\n",
        "  basictmp=tmp\n",
        "  j=0\n",
        "  while True:\n",
        "    if index[tmp]==-1:\n",
        "      index[tmp]=num\n",
        "      break\n",
        "    else:\n",
        "      j+=1\n",
        "      tmp=(basictmp+(j)**2)%INDEXBOX\n",
        "      print(\"collision\")\n",
        "index=[None]*INDEXBOX\n",
        "data=[None]*MAXNUM\n",
        "print('原始陣列值:')\n",
        "for i in range(MAXNUM):\n",
        "  data[i]=random.randint(1,20)\n",
        "for i in range(INDEXBOX):\n",
        "  index[i]=-1\n",
        "print_data(data,MAXNUM)\n",
        "print('雜湊表內容(第一個數為0):')\n",
        "for i in range(MAXNUM):\n",
        "  create_table(data[i],index)\n",
        "  print(' %2d=>'%data[i],end='')\n",
        "  print_data(index,INDEXBOX)\n",
        "print('完成雜湊表:')\n",
        "print_data(index,INDEXBOX)"
      ],
      "execution_count": 1,
      "outputs": [
        {
          "output_type": "stream",
          "text": [
            "原始陣列值:\n",
            "\t[17] [20] [11] [ 2] [19] [16] [19] \n",
            "雜湊表內容(第一個數為0):\n",
            " 17=>\t[-1] [-1] [-1] [-1] [-1] [-1] [-1] [17] [-1] [-1] \n",
            " 20=>\t[20] [-1] [-1] [-1] [-1] [-1] [-1] [17] [-1] [-1] \n",
            " 11=>\t[20] [11] [-1] [-1] [-1] [-1] [-1] [17] [-1] [-1] \n",
            "  2=>\t[20] [11] [ 2] [-1] [-1] [-1] [-1] [17] [-1] [-1] \n",
            " 19=>\t[20] [11] [ 2] [-1] [-1] [-1] [-1] [17] [-1] [19] \n",
            " 16=>\t[20] [11] [ 2] [-1] [-1] [-1] [16] [17] [-1] [19] \n",
            "collision\n",
            "collision\n",
            " 19=>\t[20] [11] [ 2] [19] [-1] [-1] [16] [17] [-1] [19] \n",
            "完成雜湊表:\n",
            "\t[20] [11] [ 2] [19] [-1] [-1] [16] [17] [-1] [19] \n"
          ],
          "name": "stdout"
        }
      ]
    },
    {
      "cell_type": "markdown",
      "metadata": {
        "id": "Oxp1o11gJPZQ"
      },
      "source": [
        "再雜湊"
      ]
    },
    {
      "cell_type": "code",
      "metadata": {
        "id": "7bF2gYAGLJRr",
        "outputId": "c3b77aae-afa2-4b6f-8cbe-cf4694e723c8",
        "colab": {
          "base_uri": "https://localhost:8080/",
          "height": 295
        }
      },
      "source": [
        "import random\n",
        "INDEXBOX=10\n",
        "MAXNUM=7\n",
        "def print_data(data,max_number):\n",
        "  print('\\t',end='')\n",
        "  for i in range(max_number):\n",
        "    print('[%2d] '%data[i],end='')\n",
        "  print()\n",
        "def create_table(num,index):\n",
        "  tmp=num%INDEXBOX\n",
        "  basictmp=tmp\n",
        "  j=0\n",
        "  while True:\n",
        "    if index[tmp]==-1:\n",
        "      index[tmp]=num\n",
        "      break\n",
        "    else:\n",
        "      j+=1\n",
        "      tmp=(basictmp+(j)*2)%INDEXBOX\n",
        "      print(\"collision\")\n",
        "index=[None]*INDEXBOX\n",
        "data=[None]*MAXNUM\n",
        "print('原始陣列值:')\n",
        "for i in range(MAXNUM):\n",
        "  data[i]=random.randint(1,20)\n",
        "for i in range(INDEXBOX):\n",
        "  index[i]=-1\n",
        "print_data(data,MAXNUM)\n",
        "print('雜湊表內容(第一個數為0):')\n",
        "for i in range(MAXNUM):\n",
        "  create_table(data[i],index)\n",
        "  print(' %2d=>'%data[i],end='')\n",
        "  print_data(index,INDEXBOX)\n",
        "print('完成雜湊表:')\n",
        "print_data(index,INDEXBOX)"
      ],
      "execution_count": 2,
      "outputs": [
        {
          "output_type": "stream",
          "text": [
            "原始陣列值:\n",
            "\t[11] [19] [ 2] [ 3] [13] [ 8] [ 1] \n",
            "雜湊表內容(第一個數為0):\n",
            " 11=>\t[-1] [11] [-1] [-1] [-1] [-1] [-1] [-1] [-1] [-1] \n",
            " 19=>\t[-1] [11] [-1] [-1] [-1] [-1] [-1] [-1] [-1] [19] \n",
            "  2=>\t[-1] [11] [ 2] [-1] [-1] [-1] [-1] [-1] [-1] [19] \n",
            "  3=>\t[-1] [11] [ 2] [ 3] [-1] [-1] [-1] [-1] [-1] [19] \n",
            "collision\n",
            " 13=>\t[-1] [11] [ 2] [ 3] [-1] [13] [-1] [-1] [-1] [19] \n",
            "  8=>\t[-1] [11] [ 2] [ 3] [-1] [13] [-1] [-1] [ 8] [19] \n",
            "collision\n",
            "collision\n",
            "collision\n",
            "  1=>\t[-1] [11] [ 2] [ 3] [-1] [13] [-1] [ 1] [ 8] [19] \n",
            "完成雜湊表:\n",
            "\t[-1] [11] [ 2] [ 3] [-1] [13] [-1] [ 1] [ 8] [19] \n"
          ],
          "name": "stdout"
        }
      ]
    }
  ]
}