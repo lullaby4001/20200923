{
  "nbformat": 4,
  "nbformat_minor": 0,
  "metadata": {
    "colab": {
      "name": "bubblesort.ipynb",
      "provenance": [],
      "include_colab_link": true
    },
    "kernelspec": {
      "name": "python3",
      "display_name": "Python 3"
    }
  },
  "cells": [
    {
      "cell_type": "markdown",
      "metadata": {
        "id": "view-in-github",
        "colab_type": "text"
      },
      "source": [
        "<a href=\"https://colab.research.google.com/github/lullaby4001/20200923/blob/master/bubblesort20200930.ipynb\" target=\"_parent\"><img src=\"https://colab.research.google.com/assets/colab-badge.svg\" alt=\"Open In Colab\"/></a>"
      ]
    },
    {
      "cell_type": "markdown",
      "metadata": {
        "id": "32sgU0StMiof"
      },
      "source": [
        "Bubble sort (氣泡排序)"
      ]
    },
    {
      "cell_type": "code",
      "metadata": {
        "id": "esB_4fSeMLYJ",
        "outputId": "02fed4a3-e7d0-4e75-c3bb-312af4db4ab4",
        "colab": {
          "base_uri": "https://localhost:8080/",
          "height": 323
        }
      },
      "source": [
        "def Bubble_Sort(datas):\n",
        "    for i in range(1, len(datas)): \n",
        "        for j in range(len(datas)-i):    \n",
        "            datas[j], datas[j+1] = datas[j+1], datas[j]\n",
        "            print(datas)    #印出datas\n",
        "    return datas\n",
        "\n",
        "\n",
        "if __name__ == '__main__':\n",
        "    import random\n",
        "    #a = list(range(20))\n",
        "    b = input(\"輸入六個數字\")    #將輸入的數字設為b\n",
        "    c = b.split(\" \")        #數字之間留有空白\n",
        "    #random.shuffle(a)\n",
        "    print(c)\n",
        "    a = Bubble_Sort(c)\n",
        "    print(a)"
      ],
      "execution_count": 1,
      "outputs": [
        {
          "output_type": "stream",
          "text": [
            "輸入六個數字1 2 5 16 32 41\n",
            "['1', '2', '5', '16', '32', '41']\n",
            "['2', '1', '5', '16', '32', '41']\n",
            "['2', '5', '1', '16', '32', '41']\n",
            "['2', '5', '16', '1', '32', '41']\n",
            "['2', '5', '16', '32', '1', '41']\n",
            "['2', '5', '16', '32', '41', '1']\n",
            "['5', '2', '16', '32', '41', '1']\n",
            "['5', '16', '2', '32', '41', '1']\n",
            "['5', '16', '32', '2', '41', '1']\n",
            "['5', '16', '32', '41', '2', '1']\n",
            "['16', '5', '32', '41', '2', '1']\n",
            "['16', '32', '5', '41', '2', '1']\n",
            "['16', '32', '41', '5', '2', '1']\n",
            "['32', '16', '41', '5', '2', '1']\n",
            "['32', '41', '16', '5', '2', '1']\n",
            "['41', '32', '16', '5', '2', '1']\n",
            "['41', '32', '16', '5', '2', '1']\n"
          ],
          "name": "stdout"
        }
      ]
    },
    {
      "cell_type": "markdown",
      "metadata": {
        "id": "MOQ_aZKnM-wL"
      },
      "source": [
        "請加入註解，並將程式修改為加入六個數做氣泡排序\n"
      ]
    }
  ]
}