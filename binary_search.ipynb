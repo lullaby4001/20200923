{
  "nbformat": 4,
  "nbformat_minor": 0,
  "metadata": {
    "colab": {
      "name": "Untitled2.ipynb",
      "provenance": [],
      "authorship_tag": "ABX9TyPZY3FmV1y25vJSgyHFgLc9",
      "include_colab_link": true
    },
    "kernelspec": {
      "name": "python3",
      "display_name": "Python 3"
    }
  },
  "cells": [
    {
      "cell_type": "markdown",
      "metadata": {
        "id": "view-in-github",
        "colab_type": "text"
      },
      "source": [
        "<a href=\"https://colab.research.google.com/github/lullaby4001/20200923/blob/master/binary_search.ipynb\" target=\"_parent\"><img src=\"https://colab.research.google.com/assets/colab-badge.svg\" alt=\"Open In Colab\"/></a>"
      ]
    },
    {
      "cell_type": "code",
      "metadata": {
        "id": "EbYJYVp_8bI2",
        "outputId": "c6823888-f1ae-4187-bd01-57248fa8b48b",
        "colab": {
          "base_uri": "https://localhost:8080/",
          "height": 35
        }
      },
      "source": [
        "def binary_search(arr,l,r,x):\n",
        "  if r >= l :\n",
        "    mid = l + (r-l)//2\n",
        "    if arr[mid] == x:\n",
        "      return mid\n",
        "    elif arr[mid] > x:\n",
        "      return binary_search(arr,l,mid-1,x)\n",
        "    else:\n",
        "      return binary_search(arr,mid+1,r,x)\n",
        "  else:\n",
        "    return -1\n",
        "arr = [5,8,9,15,30]\n",
        "x = 9\n",
        "#function call\n",
        "result = binary_search(arr,0,len(arr)-1,x)\n",
        "if result != -1:\n",
        "  print(\"元素在索引 %d \"%result)\n",
        "else:\n",
        "  print(\"陣列中找不到該元素\")"
      ],
      "execution_count": 7,
      "outputs": [
        {
          "output_type": "stream",
          "text": [
            "元素在索引 2 \n"
          ],
          "name": "stdout"
        }
      ]
    },
    {
      "cell_type": "code",
      "metadata": {
        "id": "UAF3r7rT_mPp",
        "outputId": "d4f82c22-3e99-473c-a592-c9fa4135fc28",
        "colab": {
          "base_uri": "https://localhost:8080/",
          "height": 156
        }
      },
      "source": [
        "def binarySearch (arr,l,r,x):\n",
        "  if r >= l:\n",
        "    mid = l+(r-1)//2\n",
        "    if arr[mid] == x:\n",
        "      return mid\n",
        "    elif arr[mid] > x:\n",
        "      return binarySearch(arr,l,mid-1,x)\n",
        "    else:\n",
        "       return binarySearch(arr,mid+1,r,x)\n",
        "  else:\n",
        "    return-1\n",
        "#arr = [15,38,29,9,45] 要找的在這行\n",
        "#x = 9\n",
        "def Bubble_Sort(datas):\n",
        "    for i in range(1, len(datas)): \n",
        "        for j in range(len(datas)-i):  \n",
        "            if datas[j] > datas[j+1]:   \n",
        "                datas[j], datas[j+1] = datas[j+1], datas[j]\n",
        "                print(datas)   #印出datas\n",
        "    return datas\n",
        "\n",
        "b = input(\"輸入五個數\") #將數字input 會output b\n",
        "c = b.split(\" \")    #數字之間留空格 output c\n",
        "#print(c)\n",
        "a = Bubble_Sort(c)\n",
        "print(a)\n",
        "for i ,d in enumerate(a):\n",
        "  a[i]=int(d)\n",
        "keyin = input(str(\"選擇一個作排序\"))\n",
        "# Function call\n",
        "result = binarySearch(a,0,len(a)-1,int(keyin))\n",
        "if result != -1:\n",
        "  print(\"元素在索引%d\"%result)\n",
        "else:\n",
        "  print(\"陣列中找不到該元素\")"
      ],
      "execution_count": 16,
      "outputs": [
        {
          "output_type": "stream",
          "text": [
            "輸入五個數2 1 5 4 3\n",
            "['1', '2', '5', '4', '3']\n",
            "['1', '2', '4', '5', '3']\n",
            "['1', '2', '4', '3', '5']\n",
            "['1', '2', '3', '4', '5']\n",
            "['1', '2', '3', '4', '5']\n",
            "選擇一個作排序3\n",
            "元素在索引2\n"
          ],
          "name": "stdout"
        }
      ]
    }
  ]
}