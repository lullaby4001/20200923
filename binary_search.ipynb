{
  "nbformat": 4,
  "nbformat_minor": 0,
  "metadata": {
    "colab": {
      "name": "Untitled2.ipynb",
      "provenance": [],
      "authorship_tag": "ABX9TyOXZONmvN3bl2Gr1Dt+3tBI",
      "include_colab_link": true
    },
    "kernelspec": {
      "name": "python3",
      "display_name": "Python 3"
    }
  },
  "cells": [
    {
      "cell_type": "markdown",
      "metadata": {
        "id": "view-in-github",
        "colab_type": "text"
      },
      "source": [
        "<a href=\"https://colab.research.google.com/github/lullaby4001/20200923/blob/master/binary_search.ipynb\" target=\"_parent\"><img src=\"https://colab.research.google.com/assets/colab-badge.svg\" alt=\"Open In Colab\"/></a>"
      ]
    },
    {
      "cell_type": "code",
      "metadata": {
        "id": "EbYJYVp_8bI2",
        "outputId": "0fa91370-78b9-4295-8811-16f659490c0c",
        "colab": {
          "base_uri": "https://localhost:8080/",
          "height": 35
        }
      },
      "source": [
        "def binary_search(arr,l,r,x):\n",
        "  if r >= l :\n",
        "    mid = l + (r-l)//2\n",
        "    if arr[mid] == x:\n",
        "      return mid\n",
        "    elif arr[mid] > x:\n",
        "      return binary_search(arr,l,mid-1,x)\n",
        "    else:\n",
        "      return binary_search(arr,mid+1,r,x)\n",
        "  else:\n",
        "    return -1\n",
        "arr = [5,8,9,15,30]\n",
        "x = 9\n",
        "#function call\n",
        "result = binary_search(arr,0,len(arr)-1,x)\n",
        "if result != -1:\n",
        "  print(\"元素在索引 %d \"%result)\n",
        "else:\n",
        "  print(\"陣列中找不到該元素\")"
      ],
      "execution_count": 3,
      "outputs": [
        {
          "output_type": "stream",
          "text": [
            "元素在索引 2 \n"
          ],
          "name": "stdout"
        }
      ]
    }
  ]
}