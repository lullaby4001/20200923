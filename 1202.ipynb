{
  "nbformat": 4,
  "nbformat_minor": 0,
  "metadata": {
    "colab": {
      "name": "1202.ipynb",
      "provenance": [],
      "collapsed_sections": [],
      "authorship_tag": "ABX9TyNDro2fEpoifYlfJ+dptCk8",
      "include_colab_link": true
    },
    "kernelspec": {
      "name": "python3",
      "display_name": "Python 3"
    }
  },
  "cells": [
    {
      "cell_type": "markdown",
      "metadata": {
        "id": "view-in-github",
        "colab_type": "text"
      },
      "source": [
        "<a href=\"https://colab.research.google.com/github/lullaby4001/20200923/blob/master/1202.ipynb\" target=\"_parent\"><img src=\"https://colab.research.google.com/assets/colab-badge.svg\" alt=\"Open In Colab\"/></a>"
      ]
    },
    {
      "cell_type": "markdown",
      "metadata": {
        "id": "QULAdeq8Un7f"
      },
      "source": [
        "第一題：找零問題"
      ]
    },
    {
      "cell_type": "markdown",
      "metadata": {
        "id": "wlO83adOmkbL"
      },
      "source": [
        "貪婪法"
      ]
    },
    {
      "cell_type": "code",
      "metadata": {
        "colab": {
          "base_uri": "https://localhost:8080/"
        },
        "id": "SNkAifueRVoc",
        "outputId": "117d595c-b163-47a5-f21d-12d076a5bbb5"
      },
      "source": [
        "t = [25,20,5,1] #t=面額\n",
        "\n",
        "def change(t,n): #n=多少錢\n",
        "\n",
        "  m = [0 for _ in range(len(t))]\n",
        "  for i , money in enumerate(t):\n",
        "    m[i] = n // money\n",
        "    n = n % money\n",
        "    print(\"兌換的面額為\",t[i],\"共\",m[i],\"個\")\n",
        "    print(\"剩餘%d元\"%n)\n",
        "  return m , n\n",
        "num = int(input(\"需要兌換的面額\"))\n",
        "print(change(t,41))"
      ],
      "execution_count": 114,
      "outputs": [
        {
          "output_type": "stream",
          "text": [
            "需要兌換的面額41\n",
            "兌換的面額為 25 共 1 個\n",
            "剩餘16元\n",
            "兌換的面額為 20 共 0 個\n",
            "剩餘16元\n",
            "兌換的面額為 5 共 3 個\n",
            "剩餘1元\n",
            "兌換的面額為 1 共 1 個\n",
            "剩餘0元\n",
            "([1, 0, 3, 1], 0)\n"
          ],
          "name": "stdout"
        }
      ]
    },
    {
      "cell_type": "markdown",
      "metadata": {
        "id": "kAggjdIZmfaT"
      },
      "source": [
        "動態規劃"
      ]
    },
    {
      "cell_type": "code",
      "metadata": {
        "id": "LABSK8Jimcsn"
      },
      "source": [
        "class Solution(object):\n",
        "   def coinChange(self, coins, amount):\n",
        "      if amount == 0 :\n",
        "         return 0\n",
        "      if min(coins) > amount:\n",
        "         return -1\n",
        "      dp = [-1 for i in range(0, amount + 1)]\n",
        "      for i in coins:\n",
        "         if i > len(dp) - 1:\n",
        "            continue\n",
        "         dp[i] = 1\n",
        "         for j in range(i + 1, amount + 1):\n",
        "            if dp[j - i] == -1:\n",
        "               continue\n",
        "            elif dp[j] == -1:\n",
        "               dp[j] = dp[j - i] + 1\n",
        "            else:\n",
        "               dp[j] = min(dp[j], dp[j - i] + 1)\n",
        "         #print(dp)\n",
        "      return dp[amount]\n",
        "ob1 = Solution()\n",
        "print(\"拿到最少硬幣的方法=\" ,ob1.coinChange([25,20,5,1], 41))"
      ],
      "execution_count": null,
      "outputs": []
    },
    {
      "cell_type": "markdown",
      "metadata": {
        "id": "-yvOj8LuUxoL"
      },
      "source": [
        "第二題：小偷背包問題"
      ]
    },
    {
      "cell_type": "markdown",
      "metadata": {
        "id": "_dLACymhhW2S"
      },
      "source": [
        "貪婪法"
      ]
    },
    {
      "cell_type": "code",
      "metadata": {
        "colab": {
          "base_uri": "https://localhost:8080/"
        },
        "id": "Wi-1OY5_YLu_",
        "outputId": "a99e21b9-7e31-4895-c7f1-051fcea59267"
      },
      "source": [
        "goods = [(17000, 5), (35000, 1), (60000, 4), (9000, 3), (20000, 2)]\n",
        " # 我們需要對商品首先進行排序，當然這裡是排好序的 \n",
        "goods.sort(key=lambda x: x[0]/x[1], reverse=True) \n",
        " # w 表示背包的容量 \n",
        "def fractional_backpack(goods, w):\n",
        "\n",
        "   # m 表示每個商品拿走多少個 \n",
        "  total_v = 0 \n",
        "  m = [0 for _ in range(len(goods))] \n",
        "  for i, (prize, weight) in enumerate(goods):\n",
        "    if w >= weight: \n",
        "      m[i] = 1 \n",
        "      total_v += prize \n",
        "      w -= weight  #如果最後選擇會爆掉公斤數 則會選擇價格略低的來補足公斤\n",
        "     # m[i] = 1 if w>= weight else weight / w \n",
        "\n",
        "  return m, total_v \n",
        "res1,res2 = fractional_backpack(goods, 10) \n",
        "print(res1, res2)"
      ],
      "execution_count": 135,
      "outputs": [
        {
          "output_type": "stream",
          "text": [
            "[1, 1, 1, 0, 1] 124000\n"
          ],
          "name": "stdout"
        }
      ]
    },
    {
      "cell_type": "markdown",
      "metadata": {
        "id": "n_pRf2zRhaT1"
      },
      "source": [
        "動態規劃"
      ]
    },
    {
      "cell_type": "code",
      "metadata": {
        "colab": {
          "base_uri": "https://localhost:8080/"
        },
        "id": "-JVZg_zoU7hF",
        "outputId": "596c822d-1dca-40ad-e3b5-ccf2b2450c6b"
      },
      "source": [
        "def bag(n,c,w,v):\n",
        "\tres=[[-1 for j in range(c+1)] for i in range(n+1)]\n",
        "\tfor j in range(c+1):\n",
        "\t\tres[0][j]=0\n",
        "\tfor i in range(1,n+1):\n",
        "\t\tfor j in range(1,c+1):\n",
        "\t\t\tres[i][j]=res[i-1][j]\n",
        "\t\t\tif j>=w[i-1] and res[i][j]<res[i-1][j-w[i-1]]+v[i-1]:\n",
        "\t\t\t\tres[i][j]=res[i-1][j-w[i-1]]+v[i-1]\n",
        "\treturn res\n",
        "\n",
        "def show(n,c,w,res):\n",
        "\tprint('最大價值為:',res[n][c])\n",
        "\tx=[False for i in range(n)]\n",
        "\tj=c\n",
        "\tfor i in range(1,n+1):\n",
        "\t\tif res[i][j]>res[i-1][j]:\n",
        "\t\t\tx[i-1]=True\n",
        "\t\t\tj-=w[i-1]\n",
        "\tprint('選擇的物品為:')\n",
        "\tfor i in range(n):\n",
        "\t\tif x[i]:\n",
        "\t\t\tprint('第',i+1,'個,',end='')\n",
        "\tprint('')\n",
        "\n",
        "if __name__=='__main__':\n",
        "\tn=5\n",
        "\tc=10\n",
        "\tw=[1,2,3,4,5]\n",
        "\tv=[35000,20000,9000,60000,17000]\n",
        "\tres=bag(n,c,w,v)\n",
        "\tshow(n,c,w,res)"
      ],
      "execution_count": 117,
      "outputs": [
        {
          "output_type": "stream",
          "text": [
            "最大價值為: 124000\n",
            "選擇的物品為:\n",
            "第 1 個,第 2 個,第 3 個,第 4 個,\n"
          ],
          "name": "stdout"
        }
      ]
    }
  ]
}