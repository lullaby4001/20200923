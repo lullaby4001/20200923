{
  "nbformat": 4,
  "nbformat_minor": 0,
  "metadata": {
    "colab": {
      "name": "selctionsort.ipynb",
      "provenance": [],
      "collapsed_sections": [],
      "include_colab_link": true
    },
    "kernelspec": {
      "name": "python3",
      "display_name": "Python 3"
    }
  },
  "cells": [
    {
      "cell_type": "markdown",
      "metadata": {
        "id": "view-in-github",
        "colab_type": "text"
      },
      "source": [
        "<a href=\"https://colab.research.google.com/github/lullaby4001/20200923/blob/master/1118%E6%9C%9F%E4%B8%AD%E8%80%83.ipynb\" target=\"_parent\"><img src=\"https://colab.research.google.com/assets/colab-badge.svg\" alt=\"Open In Colab\"/></a>"
      ]
    },
    {
      "cell_type": "markdown",
      "metadata": {
        "id": "W-Z0kMaDLJOp"
      },
      "source": [
        "Selection sort (選擇排序)"
      ]
    },
    {
      "cell_type": "code",
      "metadata": {
        "id": "8tM3sv79HQ_V",
        "colab": {
          "base_uri": "https://localhost:8080/"
        },
        "outputId": "5a6c4834-d7c5-4a1e-83b7-9c44042aa474"
      },
      "source": [
        "def Selction_Sort(datas): #定義選擇排序函式\n",
        "    for i in range(len(datas)-1):\n",
        "        max = i #第一次選從第一個數開始,第二次從第二個數開始\n",
        "        for j in range(i+1, len(datas)): #用記錄的max數與其他數的比較\n",
        "            if datas[j] > datas[max]: #若j大於max，就把j定義為max\n",
        "                max = j\n",
        "\n",
        "        datas[i], datas[max] = datas[max], datas[i]\n",
        "        print('這是第',i+1,'次選擇排序:',datas)\n",
        "        print('---'*18)\n",
        "    return datas\n",
        "\n",
        "\n",
        "if __name__ == '__main__':\n",
        "    import random\n",
        "    a = list(range(1,100,13)) #將數值範圍定義為1~100，並且顯示8個隨機數字(100/8 <= n ，n 取13)\n",
        "    random.shuffle(a)\n",
        "    print('原始數列為',a)\n",
        "    print('---'*18)\n",
        "    a = Selction_Sort(a)\n",
        "    print('最後的排序結果為',a)"
      ],
      "execution_count": null,
      "outputs": [
        {
          "output_type": "stream",
          "text": [
            "原始數列為 [92, 27, 1, 14, 66, 79, 53, 40]\n",
            "------------------------------------------------------\n",
            "這是第 1 次選擇排序: [92, 27, 1, 14, 66, 79, 53, 40]\n",
            "------------------------------------------------------\n",
            "這是第 2 次選擇排序: [92, 79, 1, 14, 66, 27, 53, 40]\n",
            "------------------------------------------------------\n",
            "這是第 3 次選擇排序: [92, 79, 66, 14, 1, 27, 53, 40]\n",
            "------------------------------------------------------\n",
            "這是第 4 次選擇排序: [92, 79, 66, 53, 1, 27, 14, 40]\n",
            "------------------------------------------------------\n",
            "這是第 5 次選擇排序: [92, 79, 66, 53, 40, 27, 14, 1]\n",
            "------------------------------------------------------\n",
            "這是第 6 次選擇排序: [92, 79, 66, 53, 40, 27, 14, 1]\n",
            "------------------------------------------------------\n",
            "這是第 7 次選擇排序: [92, 79, 66, 53, 40, 27, 14, 1]\n",
            "------------------------------------------------------\n",
            "最後的排序結果為 [92, 79, 66, 53, 40, 27, 14, 1]\n"
          ],
          "name": "stdout"
        }
      ]
    },
    {
      "cell_type": "markdown",
      "metadata": {
        "id": "MiWPt8bALDN5"
      },
      "source": [
        "Insertion sort (插入排序)\n"
      ]
    },
    {
      "cell_type": "code",
      "metadata": {
        "id": "J3H12YIpAHIa",
        "outputId": "c8b93236-d45f-4de7-9172-408ad9dd837a",
        "colab": {
          "base_uri": "https://localhost:8080/"
        }
      },
      "source": [
        "def insertion_sort(list): #定義插入排序函式\n",
        "    N = len(list) #獲取需要排序資料的個數\n",
        "    for i in range(1,N): #插入排序的第一次插入從第二個數字開始選擇，所以下標從1開始\n",
        "        for j in range(i,0,-1): #從選擇插入的資料，一次和它前一個比較，主要比前面的小就交換\n",
        "            if list[j]<list[j-1]: #判斷大小\n",
        "                temp = list[j] #交換\n",
        "                list[j] = list[j-1]\n",
        "                list[j-1] = temp\n",
        "\n",
        "if __name__ == '__main__':\n",
        "    import random\n",
        "    a = list(range(1,100,13)) #將數值範圍定義為1~100，並且顯示8個隨機數字(100/8 <= n ，n 取13)\n",
        "    random.shuffle(a)\n",
        "    b = a.copy()\n",
        "    print('原始數列為',a)\n",
        "    print('---'*18)\n",
        "\n",
        "    arr = insertionSort(a)\n",
        "    insertion_sort(b)\n",
        "    print('最後的排序結果為',a)"
      ],
      "execution_count": 6,
      "outputs": [
        {
          "output_type": "stream",
          "text": [
            "原始數列為 [27, 92, 66, 53, 14, 40, 1, 79]\n",
            "------------------------------------------------------\n",
            "這是第 1 次插入排序： [27, 92, 66, 53, 14, 40, 1, 79]\n",
            "------------------------------------------------------\n",
            "這是第 2 次插入排序： [27, 92, 66, 53, 14, 40, 1, 79]\n",
            "------------------------------------------------------\n",
            "這是第 3 次插入排序： [27, 66, 92, 53, 14, 40, 1, 79]\n",
            "------------------------------------------------------\n",
            "這是第 4 次插入排序： [27, 53, 66, 92, 14, 40, 1, 79]\n",
            "------------------------------------------------------\n",
            "這是第 5 次插入排序： [14, 27, 53, 66, 92, 40, 1, 79]\n",
            "------------------------------------------------------\n",
            "這是第 6 次插入排序： [14, 27, 40, 53, 66, 92, 1, 79]\n",
            "------------------------------------------------------\n",
            "這是第 7 次插入排序： [1, 14, 27, 40, 53, 66, 92, 79]\n",
            "------------------------------------------------------\n",
            "這是第 8 次插入排序： [1, 14, 27, 40, 53, 66, 79, 92]\n",
            "------------------------------------------------------\n",
            "最後的排序結果為 [1, 14, 27, 40, 53, 66, 79, 92]\n"
          ],
          "name": "stdout"
        }
      ]
    }
  ]
}