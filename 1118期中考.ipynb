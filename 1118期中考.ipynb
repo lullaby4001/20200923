{
  "nbformat": 4,
  "nbformat_minor": 0,
  "metadata": {
    "colab": {
      "name": "selctionsort.ipynb",
      "provenance": [],
      "collapsed_sections": [],
      "include_colab_link": true
    },
    "kernelspec": {
      "name": "python3",
      "display_name": "Python 3"
    }
  },
  "cells": [
    {
      "cell_type": "markdown",
      "metadata": {
        "id": "view-in-github",
        "colab_type": "text"
      },
      "source": [
        "<a href=\"https://colab.research.google.com/github/lullaby4001/20200923/blob/master/1118%E6%9C%9F%E4%B8%AD%E8%80%83.ipynb\" target=\"_parent\"><img src=\"https://colab.research.google.com/assets/colab-badge.svg\" alt=\"Open In Colab\"/></a>"
      ]
    },
    {
      "cell_type": "markdown",
      "metadata": {
        "id": "W-Z0kMaDLJOp"
      },
      "source": [
        "Selection sort (選擇排序)"
      ]
    },
    {
      "cell_type": "code",
      "metadata": {
        "id": "8tM3sv79HQ_V",
        "colab": {
          "base_uri": "https://localhost:8080/"
        },
        "outputId": "26422d67-4ad4-4b7e-8627-e40aa2dd03de"
      },
      "source": [
        "def Selction_Sort(datas):\n",
        "    for i in range(len(datas)-1):\n",
        "        max = i #第一次選從第一個數開始,第二次從第二個數開始\n",
        "        for j in range(i+1, len(datas)):    #用記錄的max數與其他的比較\n",
        "            if datas[j] > datas[max]:\n",
        "                max = j\n",
        "\n",
        "        datas[i], datas[max] = datas[max], datas[i]\n",
        "\n",
        "        print(datas)\n",
        "        print('---'*10)\n",
        "    return datas\n",
        "\n",
        "\n",
        "if __name__ == '__main__':\n",
        "    import random\n",
        "    a = list(range(8))\n",
        "    random.shuffle(a)\n",
        "    print(a)\n",
        "    a = Selction_Sort(a)\n",
        "    print(a)"
      ],
      "execution_count": 6,
      "outputs": [
        {
          "output_type": "stream",
          "text": [
            "[5, 3, 1, 0, 4, 7, 2, 6]\n",
            "------------------------------\n",
            "[7, 3, 1, 0, 4, 5, 2, 6]\n",
            "------------------------------\n",
            "[7, 6, 1, 0, 4, 5, 2, 3]\n",
            "------------------------------\n",
            "[7, 6, 5, 0, 4, 1, 2, 3]\n",
            "------------------------------\n",
            "[7, 6, 5, 4, 0, 1, 2, 3]\n",
            "------------------------------\n",
            "[7, 6, 5, 4, 3, 1, 2, 0]\n",
            "------------------------------\n",
            "[7, 6, 5, 4, 3, 2, 1, 0]\n",
            "------------------------------\n",
            "[7, 6, 5, 4, 3, 2, 1, 0]\n",
            "[7, 6, 5, 4, 3, 2, 1, 0]\n"
          ],
          "name": "stdout"
        }
      ]
    },
    {
      "cell_type": "markdown",
      "metadata": {
        "id": "MiWPt8bALDN5"
      },
      "source": [
        "Insertion sort (插入排序)\n"
      ]
    },
    {
      "cell_type": "code",
      "metadata": {
        "id": "uZdjSnxTn-OC",
        "outputId": "ac382109-fd94-40b0-f863-f92e2db614c6",
        "colab": {
          "base_uri": "https://localhost:8080/"
        }
      },
      "source": [
        "def Insertion_Sort(datas):\n",
        "    for i in range(1, len(datas)): \n",
        "        for j in range(i):\n",
        "            current = datas[i]\n",
        "            if current < datas[j]:\n",
        "                for k in range(i,j):\n",
        "                  print(datas)\n",
        "    return datas\n",
        "\n",
        "\n",
        "def insertionSort(arr):\n",
        "    for i in range(len(arr)):\n",
        "        preIndex = i-1\n",
        "        current = arr[i]\n",
        "        while preIndex >= 0 and arr[preIndex] > current:\n",
        "            arr[preIndex+1] = arr[preIndex]\n",
        "            preIndex-=1\n",
        "        arr[preIndex+1] = current\n",
        "        print(arr)\n",
        "        print('---'*10)\n",
        "    return arr\n",
        "\n",
        "if __name__ == '__main__':\n",
        "    import random\n",
        "    a = list(range(8))\n",
        "    random.shuffle(a)\n",
        "    b = a.copy()\n",
        "\n",
        "    arr = insertionSort(a)\n",
        "    Insertion_Sort(b)"
      ],
      "execution_count": 5,
      "outputs": [
        {
          "output_type": "stream",
          "text": [
            "[7, 0, 5, 4, 1, 6, 2, 3]\n",
            "------------------------------\n",
            "[0, 7, 5, 4, 1, 6, 2, 3]\n",
            "------------------------------\n",
            "[0, 5, 7, 4, 1, 6, 2, 3]\n",
            "------------------------------\n",
            "[0, 4, 5, 7, 1, 6, 2, 3]\n",
            "------------------------------\n",
            "[0, 1, 4, 5, 7, 6, 2, 3]\n",
            "------------------------------\n",
            "[0, 1, 4, 5, 6, 7, 2, 3]\n",
            "------------------------------\n",
            "[0, 1, 2, 4, 5, 6, 7, 3]\n",
            "------------------------------\n",
            "[0, 1, 2, 3, 4, 5, 6, 7]\n",
            "------------------------------\n"
          ],
          "name": "stdout"
        }
      ]
    }
  ]
}