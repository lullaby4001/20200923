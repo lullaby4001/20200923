{
  "nbformat": 4,
  "nbformat_minor": 0,
  "metadata": {
    "colab": {
      "name": "selctionsort.ipynb",
      "provenance": [],
      "collapsed_sections": [],
      "include_colab_link": true
    },
    "kernelspec": {
      "name": "python3",
      "display_name": "Python 3"
    }
  },
  "cells": [
    {
      "cell_type": "markdown",
      "metadata": {
        "id": "view-in-github",
        "colab_type": "text"
      },
      "source": [
        "<a href=\"https://colab.research.google.com/github/lullaby4001/20200923/blob/master/1118%E6%9C%9F%E4%B8%AD%E8%80%83.ipynb\" target=\"_parent\"><img src=\"https://colab.research.google.com/assets/colab-badge.svg\" alt=\"Open In Colab\"/></a>"
      ]
    },
    {
      "cell_type": "markdown",
      "metadata": {
        "id": "W-Z0kMaDLJOp"
      },
      "source": [
        "Selection sort (選擇排序)"
      ]
    },
    {
      "cell_type": "code",
      "metadata": {
        "id": "8tM3sv79HQ_V",
        "colab": {
          "base_uri": "https://localhost:8080/"
        },
        "outputId": "5a6c4834-d7c5-4a1e-83b7-9c44042aa474"
      },
      "source": [
        "def Selction_Sort(datas):\n",
        "    for i in range(len(datas)-1):\n",
        "        max = i #第一次選從第一個數開始,第二次從第二個數開始\n",
        "        for j in range(i+1, len(datas)): #用記錄的max數與其他數的比較\n",
        "            if datas[j] > datas[max]: #若j大於max，就把j定義為max\n",
        "                max = j\n",
        "\n",
        "        datas[i], datas[max] = datas[max], datas[i]\n",
        "        print('這是第',i+1,'次選擇排序:',datas)\n",
        "        print('---'*18)\n",
        "    return datas\n",
        "\n",
        "\n",
        "if __name__ == '__main__':\n",
        "    import random\n",
        "    a = list(range(1,100,13)) #將數值範圍定義為1~100，並且顯示8個隨機數字(100/8 <= n ，n 取13)\n",
        "    random.shuffle(a)\n",
        "    print('原始數列為',a)\n",
        "    print('---'*18)\n",
        "    a = Selction_Sort(a)\n",
        "    print('最後的排序結果為',a)"
      ],
      "execution_count": 40,
      "outputs": [
        {
          "output_type": "stream",
          "text": [
            "原始數列為 [92, 27, 1, 14, 66, 79, 53, 40]\n",
            "------------------------------------------------------\n",
            "這是第 1 次選擇排序: [92, 27, 1, 14, 66, 79, 53, 40]\n",
            "------------------------------------------------------\n",
            "這是第 2 次選擇排序: [92, 79, 1, 14, 66, 27, 53, 40]\n",
            "------------------------------------------------------\n",
            "這是第 3 次選擇排序: [92, 79, 66, 14, 1, 27, 53, 40]\n",
            "------------------------------------------------------\n",
            "這是第 4 次選擇排序: [92, 79, 66, 53, 1, 27, 14, 40]\n",
            "------------------------------------------------------\n",
            "這是第 5 次選擇排序: [92, 79, 66, 53, 40, 27, 14, 1]\n",
            "------------------------------------------------------\n",
            "這是第 6 次選擇排序: [92, 79, 66, 53, 40, 27, 14, 1]\n",
            "------------------------------------------------------\n",
            "這是第 7 次選擇排序: [92, 79, 66, 53, 40, 27, 14, 1]\n",
            "------------------------------------------------------\n",
            "最後的排序結果為 [92, 79, 66, 53, 40, 27, 14, 1]\n"
          ],
          "name": "stdout"
        }
      ]
    },
    {
      "cell_type": "markdown",
      "metadata": {
        "id": "MiWPt8bALDN5"
      },
      "source": [
        "Insertion sort (插入排序)\n"
      ]
    },
    {
      "cell_type": "code",
      "metadata": {
        "id": "uZdjSnxTn-OC",
        "colab": {
          "base_uri": "https://localhost:8080/"
        },
        "outputId": "d2e17627-27f7-4707-c059-435bdc6e491d"
      },
      "source": [
        "def Insertion_Sort(datas):\n",
        "    for i in range(len(datas)): \n",
        "        for j in range(i):\n",
        "            current = datas[i]\n",
        "            if current < datas[j]:\n",
        "                for k in range(i,j):\n",
        "                  print(datas)\n",
        "    return datas\n",
        "\n",
        "\n",
        "def insertionSort(arr):\n",
        "    for i in range(len(arr)):\n",
        "        preIndex = i-1\n",
        "        current = arr[i]\n",
        "        while preIndex >= 0 and arr[preIndex] > current:\n",
        "            arr[preIndex+1] = arr[preIndex]\n",
        "            preIndex-=1\n",
        "        arr[preIndex+1] = current\n",
        "        print('這是第',i+1,'次插入排序：',arr)\n",
        "        print('---'*18)\n",
        "    return arr\n",
        "\n",
        "if __name__ == '__main__':\n",
        "    import random\n",
        "    a = list(range(1,100,13))\n",
        "    random.shuffle(a)\n",
        "    b = a.copy()\n",
        "    print('原始數列為',a)\n",
        "    print('---'*18)\n",
        "\n",
        "    arr = insertionSort(a)\n",
        "    Insertion_Sort(b)\n",
        "    print('最後的排序結果為',a)"
      ],
      "execution_count": 41,
      "outputs": [
        {
          "output_type": "stream",
          "text": [
            "原始數列為 [79, 14, 1, 92, 40, 27, 53, 66]\n",
            "------------------------------------------------------\n",
            "這是第 1 次插入排序： [79, 14, 1, 92, 40, 27, 53, 66]\n",
            "------------------------------------------------------\n",
            "這是第 2 次插入排序： [14, 79, 1, 92, 40, 27, 53, 66]\n",
            "------------------------------------------------------\n",
            "這是第 3 次插入排序： [1, 14, 79, 92, 40, 27, 53, 66]\n",
            "------------------------------------------------------\n",
            "這是第 4 次插入排序： [1, 14, 79, 92, 40, 27, 53, 66]\n",
            "------------------------------------------------------\n",
            "這是第 5 次插入排序： [1, 14, 40, 79, 92, 27, 53, 66]\n",
            "------------------------------------------------------\n",
            "這是第 6 次插入排序： [1, 14, 27, 40, 79, 92, 53, 66]\n",
            "------------------------------------------------------\n",
            "這是第 7 次插入排序： [1, 14, 27, 40, 53, 79, 92, 66]\n",
            "------------------------------------------------------\n",
            "這是第 8 次插入排序： [1, 14, 27, 40, 53, 66, 79, 92]\n",
            "------------------------------------------------------\n",
            "最後的排序結果為 [1, 14, 27, 40, 53, 66, 79, 92]\n"
          ],
          "name": "stdout"
        }
      ]
    }
  ]
}