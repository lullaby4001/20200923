{
  "nbformat": 4,
  "nbformat_minor": 0,
  "metadata": {
    "colab": {
      "name": "selctionsort.ipynb",
      "provenance": [],
      "collapsed_sections": [],
      "include_colab_link": true
    },
    "kernelspec": {
      "name": "python3",
      "display_name": "Python 3"
    }
  },
  "cells": [
    {
      "cell_type": "markdown",
      "metadata": {
        "id": "view-in-github",
        "colab_type": "text"
      },
      "source": [
        "<a href=\"https://colab.research.google.com/github/lullaby4001/20200923/blob/master/1118%E6%9C%9F%E4%B8%AD%E8%80%83.ipynb\" target=\"_parent\"><img src=\"https://colab.research.google.com/assets/colab-badge.svg\" alt=\"Open In Colab\"/></a>"
      ]
    },
    {
      "cell_type": "markdown",
      "metadata": {
        "id": "W-Z0kMaDLJOp"
      },
      "source": [
        "Selection sort (選擇排序)"
      ]
    },
    {
      "cell_type": "code",
      "metadata": {
        "id": "8tM3sv79HQ_V",
        "colab": {
          "base_uri": "https://localhost:8080/"
        },
        "outputId": "0ddaa59e-5f56-4253-f72f-a94e319f05f1"
      },
      "source": [
        "def Selction_Sort(datas):\n",
        "    for i in range(len(datas)-1):\n",
        "        max = i #第一次選從第一個數開始,第二次從第二個數開始\n",
        "        for j in range(i+1, len(datas)): #用記錄的max數與其他的比較\n",
        "            if datas[j] > datas[max]:\n",
        "                max = j\n",
        "\n",
        "        datas[i], datas[max] = datas[max], datas[i]\n",
        "        print('這是第',i+1,'次選擇排序:',datas)\n",
        "        print('---'*18)\n",
        "    return datas\n",
        "\n",
        "\n",
        "if __name__ == '__main__':\n",
        "    import random\n",
        "    a = list(range(1,100,13))\n",
        "    random.shuffle(a)\n",
        "    print('原始數列為',a)\n",
        "    print('---'*18)\n",
        "    a = Selction_Sort(a)\n",
        "    print('最後的排序結果為',a)"
      ],
      "execution_count": 26,
      "outputs": [
        {
          "output_type": "stream",
          "text": [
            "原始數列為 [66, 53, 27, 79, 14, 40, 1, 92]\n",
            "------------------------------------------------------\n",
            "這是第 1 次選擇排序: [92, 53, 27, 79, 14, 40, 1, 66]\n",
            "------------------------------------------------------\n",
            "這是第 2 次選擇排序: [92, 79, 27, 53, 14, 40, 1, 66]\n",
            "------------------------------------------------------\n",
            "這是第 3 次選擇排序: [92, 79, 66, 53, 14, 40, 1, 27]\n",
            "------------------------------------------------------\n",
            "這是第 4 次選擇排序: [92, 79, 66, 53, 14, 40, 1, 27]\n",
            "------------------------------------------------------\n",
            "這是第 5 次選擇排序: [92, 79, 66, 53, 40, 14, 1, 27]\n",
            "------------------------------------------------------\n",
            "這是第 6 次選擇排序: [92, 79, 66, 53, 40, 27, 1, 14]\n",
            "------------------------------------------------------\n",
            "這是第 7 次選擇排序: [92, 79, 66, 53, 40, 27, 14, 1]\n",
            "------------------------------------------------------\n",
            "最後的排序結果為 [92, 79, 66, 53, 40, 27, 14, 1]\n"
          ],
          "name": "stdout"
        }
      ]
    },
    {
      "cell_type": "markdown",
      "metadata": {
        "id": "MiWPt8bALDN5"
      },
      "source": [
        "Insertion sort (插入排序)\n"
      ]
    },
    {
      "cell_type": "code",
      "metadata": {
        "id": "uZdjSnxTn-OC",
        "colab": {
          "base_uri": "https://localhost:8080/"
        },
        "outputId": "d6e81268-ea58-4ee9-9918-901c2a02a7a2"
      },
      "source": [
        "def Insertion_Sort(datas):\n",
        "    for i in range(len(datas)): \n",
        "        for j in range(i):\n",
        "            current = datas[i]\n",
        "            if current < datas[j]:\n",
        "                for k in range(i,j):\n",
        "                  print(datas)\n",
        "    return datas\n",
        "\n",
        "\n",
        "def insertionSort(arr):\n",
        "    for i in range(len(arr)):\n",
        "        preIndex = i-1\n",
        "        current = arr[i]\n",
        "        while preIndex >= 0 and arr[preIndex] > current:\n",
        "            arr[preIndex+1] = arr[preIndex]\n",
        "            preIndex-=1\n",
        "        arr[preIndex+1] = current\n",
        "        print('這是第',i+1,'次插入排序',arr)\n",
        "        print('---'*18)\n",
        "    return arr\n",
        "\n",
        "if __name__ == '__main__':\n",
        "    import random\n",
        "    a = list(range(1,100,13))\n",
        "    random.shuffle(a)\n",
        "    b = a.copy()\n",
        "    print('原始數列為',a)\n",
        "    print('---'*18)\n",
        "\n",
        "    arr = insertionSort(a)\n",
        "    Insertion_Sort(b)\n",
        "    print('最後的排序結果為',a)"
      ],
      "execution_count": 38,
      "outputs": [
        {
          "output_type": "stream",
          "text": [
            "原始數列為 [66, 79, 27, 14, 92, 40, 1, 53]\n",
            "------------------------------------------------------\n",
            "這是第 1 次插入排序 [66, 79, 27, 14, 92, 40, 1, 53]\n",
            "------------------------------------------------------\n",
            "這是第 2 次插入排序 [66, 79, 27, 14, 92, 40, 1, 53]\n",
            "------------------------------------------------------\n",
            "這是第 3 次插入排序 [27, 66, 79, 14, 92, 40, 1, 53]\n",
            "------------------------------------------------------\n",
            "這是第 4 次插入排序 [14, 27, 66, 79, 92, 40, 1, 53]\n",
            "------------------------------------------------------\n",
            "這是第 5 次插入排序 [14, 27, 66, 79, 92, 40, 1, 53]\n",
            "------------------------------------------------------\n",
            "這是第 6 次插入排序 [14, 27, 40, 66, 79, 92, 1, 53]\n",
            "------------------------------------------------------\n",
            "這是第 7 次插入排序 [1, 14, 27, 40, 66, 79, 92, 53]\n",
            "------------------------------------------------------\n",
            "這是第 8 次插入排序 [1, 14, 27, 40, 53, 66, 79, 92]\n",
            "------------------------------------------------------\n",
            "最後的排序結果為 [1, 14, 27, 40, 53, 66, 79, 92]\n"
          ],
          "name": "stdout"
        }
      ]
    }
  ]
}