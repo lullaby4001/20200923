{
  "nbformat": 4,
  "nbformat_minor": 0,
  "metadata": {
    "colab": {
      "name": "1223.ipynb",
      "provenance": [],
      "authorship_tag": "ABX9TyPPEyDsTGc6y5eOYtocBQQM",
      "include_colab_link": true
    },
    "kernelspec": {
      "name": "python3",
      "display_name": "Python 3"
    }
  },
  "cells": [
    {
      "cell_type": "markdown",
      "metadata": {
        "id": "view-in-github",
        "colab_type": "text"
      },
      "source": [
        "<a href=\"https://colab.research.google.com/github/lullaby4001/20200923/blob/master/1223.ipynb\" target=\"_parent\"><img src=\"https://colab.research.google.com/assets/colab-badge.svg\" alt=\"Open In Colab\"/></a>"
      ]
    },
    {
      "cell_type": "markdown",
      "metadata": {
        "id": "trtdc0LjiLec"
      },
      "source": [
        "# 2020 / 12 / 23     NP問題介紹"
      ]
    },
    {
      "cell_type": "markdown",
      "metadata": {
        "id": "4ZXGbRPdiOnA"
      },
      "source": [
        "# **子集和問題**\r\n",
        "**1. 選定問題：**子集和問題\r\n",
        "\r\n",
        "**2. 屬於：**NP-Complete問題[1]\r\n",
        "\r\n",
        "**3. 定義/解釋：**\r\n",
        "\r\n",
        "問題可以描述為：「給一個整數集合，問是否存在某個非空子集，使得子集內中的數字和為某個特定數值。」[1]\r\n",
        "\r\n",
        "**4. 假設是NP-C，如何證明？**\r\n",
        "\r\n",
        "給定一集合{−7, −1, −4, 6, 8}，問是否存在子集和為0的集合？\r\n",
        "答案是YES，因為子集{-7, -1, 8}的數字和是0。[2]\r\n",
        "\r\n",
        "**5. 目前已有的解法，是透過什麼演算法？程式？**\r\n",
        "\r\n",
        "利用動態規劃的方法，能夠以偽多項式時間解決子集合加總問題。[1]\r\n",
        "\r\n",
        "**6.\t資料來源：**\r\n",
        "\r\n",
        "[1]維基百科──子集和問題https://zh.wikipedia.org/wiki/%E5%AD%90%E9%9B%86%E5%92%8C%E5%95%8F%E9%A1%8C\r\n",
        "\r\n",
        "[2]CSDN──動態規劃法（三）子集和問題(Subset sum problem)\r\n",
        "https://blog.csdn.net/jclian91/article/details/80513522\r\n"
      ]
    },
    {
      "cell_type": "code",
      "metadata": {
        "colab": {
          "base_uri": "https://localhost:8080/"
        },
        "id": "ztc-dTq8gs7J",
        "outputId": "524a642d-36c2-42c0-8f71-b1147f44a834"
      },
      "source": [
        "import numpy as np\r\n",
        "\r\n",
        "# A Dynamic Programming solution for subset sum problem\r\n",
        "# Returns true if there is a subset of set with sum equal to given sum\r\n",
        "\r\n",
        "def isSubsetSum(S, n, M):\r\n",
        "    # The value of subset[i, j] will be\r\n",
        "    # true if there is a subset of\r\n",
        "    # set[0..j-1] with sum equal to i\r\n",
        "    subset = np.array([[True]*(M+1)]*(n+1))\r\n",
        "\r\n",
        "    # If sum is 0, then answer is true\r\n",
        "    for i in range(0, n+1):\r\n",
        "        subset[i, 0] = True\r\n",
        "\r\n",
        "    # If sum is not 0 and set is empty,\r\n",
        "    # then answer is false\r\n",
        "    for i in range(1, M+1):\r\n",
        "        subset[0, i] = False\r\n",
        "\r\n",
        "    # Fill the subset table in bottom-up manner\r\n",
        "    for i in range(1, n+1):\r\n",
        "        for j in range(1, M+1):\r\n",
        "            if j < S[i-1]:\r\n",
        "                subset[i, j] = subset[i-1, j]\r\n",
        "            else:\r\n",
        "                subset[i, j] = subset[i-1, j] or subset[i-1, j-S[i-1]]\r\n",
        "\r\n",
        "    # print the True-False table\r\n",
        "    for i in range(0, n+1):\r\n",
        "        for j in range(0, M+1):\r\n",
        "            print('%-6s'%subset[i][j], end=\"  \")\r\n",
        "        print(\" \")\r\n",
        "\r\n",
        "    if subset[n, M]:\r\n",
        "        print(\"Found a subset with given sum\")\r\n",
        "        sol = []\r\n",
        "        # using backtracing to find the solution\r\n",
        "        i = n\r\n",
        "        while i >= 0:\r\n",
        "            if subset[i, M] and not subset[i-1, M]:\r\n",
        "                sol.append(S[i-1])\r\n",
        "                M -= st[i-1]\r\n",
        "            if M == 0:\r\n",
        "                break\r\n",
        "            i -= 1\r\n",
        "        print('The solution is %s.' % sol)\r\n",
        "    else:\r\n",
        "        print(\"No subset with given sum\")\r\n",
        "\r\n",
        "# test\r\n",
        "st = [1, 3, 4, 5]\r\n",
        "n = len(st)\r\n",
        "sm = 7\r\n",
        "isSubsetSum(st, n, sm)"
      ],
      "execution_count": 8,
      "outputs": [
        {
          "output_type": "stream",
          "text": [
            "True    False   False   False   False   False   False   False    \n",
            "True    True    False   False   False   False   False   False    \n",
            "True    True    False   True    True    False   False   False    \n",
            "True    True    False   True    True    True    False   True     \n",
            "True    True    False   True    True    True    True    True     \n",
            "Found a subset with given sum\n",
            "The solution is [4, 3].\n"
          ],
          "name": "stdout"
        }
      ]
    }
  ]
}