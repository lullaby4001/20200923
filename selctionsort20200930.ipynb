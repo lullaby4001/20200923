{
  "nbformat": 4,
  "nbformat_minor": 0,
  "metadata": {
    "colab": {
      "name": "selctionsort.ipynb",
      "provenance": [],
      "collapsed_sections": [],
      "include_colab_link": true
    },
    "kernelspec": {
      "name": "python3",
      "display_name": "Python 3"
    }
  },
  "cells": [
    {
      "cell_type": "markdown",
      "metadata": {
        "id": "view-in-github",
        "colab_type": "text"
      },
      "source": [
        "<a href=\"https://colab.research.google.com/github/lullaby4001/20200923/blob/master/selctionsort20200930.ipynb\" target=\"_parent\"><img src=\"https://colab.research.google.com/assets/colab-badge.svg\" alt=\"Open In Colab\"/></a>"
      ]
    },
    {
      "cell_type": "markdown",
      "metadata": {
        "id": "W-Z0kMaDLJOp"
      },
      "source": [
        "Selection sort (選擇排序)"
      ]
    },
    {
      "cell_type": "code",
      "metadata": {
        "id": "8tM3sv79HQ_V",
        "outputId": "133ec32f-96ea-41ba-fe11-217d0d9e8144",
        "colab": {
          "base_uri": "https://localhost:8080/",
          "height": 561
        }
      },
      "source": [
        "def Selction_Sort(datas):\n",
        "    for i in range(len(datas)-1):                            # n+1\n",
        "        min = i # 第一次選從第一個數開始,第二次從第二個數開始           # n\n",
        "        for j in range(i+1, len(datas)):    # 用記錄的max數與其他的比較    # n+1\n",
        "            if datas[j] < datas[min]:                      # n\n",
        "                min = j                           # n\n",
        "\n",
        "        datas[i], datas[min] = datas[min], datas[i]                # n\n",
        "\n",
        "        print(datas)                                  # 1\n",
        "        print('---'*10)                                 # 1\n",
        "    return datas                                      # 1\n",
        "\n",
        "\n",
        "if __name__ == '__main__':                                  # n\n",
        "    import random                                      # 1\n",
        "    a = list(range(16))                                  # n\n",
        "    random.shuffle(a)                                    # 1\n",
        "    print(a)                                         # n\n",
        "    a = Selction_Sort(a)                                  # n\n",
        "    print(a)                                         # n\n",
        "                                                #共11n+7"
      ],
      "execution_count": null,
      "outputs": [
        {
          "output_type": "stream",
          "text": [
            "[15, 11, 0, 5, 9, 13, 1, 2, 7, 4, 3, 6, 10, 8, 12, 14]\n",
            "[0, 11, 15, 5, 9, 13, 1, 2, 7, 4, 3, 6, 10, 8, 12, 14]\n",
            "------------------------------\n",
            "[0, 1, 15, 5, 9, 13, 11, 2, 7, 4, 3, 6, 10, 8, 12, 14]\n",
            "------------------------------\n",
            "[0, 1, 2, 5, 9, 13, 11, 15, 7, 4, 3, 6, 10, 8, 12, 14]\n",
            "------------------------------\n",
            "[0, 1, 2, 3, 9, 13, 11, 15, 7, 4, 5, 6, 10, 8, 12, 14]\n",
            "------------------------------\n",
            "[0, 1, 2, 3, 4, 13, 11, 15, 7, 9, 5, 6, 10, 8, 12, 14]\n",
            "------------------------------\n",
            "[0, 1, 2, 3, 4, 5, 11, 15, 7, 9, 13, 6, 10, 8, 12, 14]\n",
            "------------------------------\n",
            "[0, 1, 2, 3, 4, 5, 6, 15, 7, 9, 13, 11, 10, 8, 12, 14]\n",
            "------------------------------\n",
            "[0, 1, 2, 3, 4, 5, 6, 7, 15, 9, 13, 11, 10, 8, 12, 14]\n",
            "------------------------------\n",
            "[0, 1, 2, 3, 4, 5, 6, 7, 8, 9, 13, 11, 10, 15, 12, 14]\n",
            "------------------------------\n",
            "[0, 1, 2, 3, 4, 5, 6, 7, 8, 9, 13, 11, 10, 15, 12, 14]\n",
            "------------------------------\n",
            "[0, 1, 2, 3, 4, 5, 6, 7, 8, 9, 10, 11, 13, 15, 12, 14]\n",
            "------------------------------\n",
            "[0, 1, 2, 3, 4, 5, 6, 7, 8, 9, 10, 11, 13, 15, 12, 14]\n",
            "------------------------------\n",
            "[0, 1, 2, 3, 4, 5, 6, 7, 8, 9, 10, 11, 12, 15, 13, 14]\n",
            "------------------------------\n",
            "[0, 1, 2, 3, 4, 5, 6, 7, 8, 9, 10, 11, 12, 13, 15, 14]\n",
            "------------------------------\n",
            "[0, 1, 2, 3, 4, 5, 6, 7, 8, 9, 10, 11, 12, 13, 14, 15]\n",
            "------------------------------\n",
            "[0, 1, 2, 3, 4, 5, 6, 7, 8, 9, 10, 11, 12, 13, 14, 15]\n"
          ],
          "name": "stdout"
        }
      ]
    },
    {
      "cell_type": "markdown",
      "metadata": {
        "id": "MiWPt8bALDN5"
      },
      "source": [
        "請加入註解\n"
      ]
    }
  ]
}