{
  "nbformat": 4,
  "nbformat_minor": 0,
  "metadata": {
    "colab": {
      "name": "insertionsort.ipynb",
      "provenance": [],
      "collapsed_sections": [],
      "include_colab_link": true
    },
    "kernelspec": {
      "name": "python3",
      "display_name": "Python 3"
    }
  },
  "cells": [
    {
      "cell_type": "markdown",
      "metadata": {
        "id": "view-in-github",
        "colab_type": "text"
      },
      "source": [
        "<a href=\"https://colab.research.google.com/github/lullaby4001/20200923/blob/master/insertionsort20200930.ipynb\" target=\"_parent\"><img src=\"https://colab.research.google.com/assets/colab-badge.svg\" alt=\"Open In Colab\"/></a>"
      ]
    },
    {
      "cell_type": "markdown",
      "metadata": {
        "id": "j95w6SLwOC0z"
      },
      "source": [
        "Insertion sort (插入排序)"
      ]
    },
    {
      "cell_type": "code",
      "metadata": {
        "id": "BxBaYEwzNj_v",
        "outputId": "639a454e-3af4-40f2-f763-7899d7dc595d",
        "colab": {
          "base_uri": "https://localhost:8080/",
          "height": 306
        }
      },
      "source": [
        "\n",
        "def Insertion_Sort(datas):\n",
        "    for i in range(1, len(datas)):                  # n+1\n",
        "        for j in range(i):                     # n(n+1)\n",
        "            current = datas[i]                 # n+1\n",
        "            if current < datas[j]:               # n\n",
        "                for k in range(i,j):            # n*n(n+1)\n",
        "                  print(datas)                # n\n",
        "    return datas                             # 1\n",
        "\n",
        "\n",
        "def insertionSort(arr):\n",
        "    for i in range(len(arr)):                      # n+1\n",
        "        preIndex = i-1                        # n\n",
        "        current = arr[i]                       # n\n",
        "        while preIndex >= 0 and arr[preIndex] > current:    # 1\n",
        "            arr[preIndex+1] = arr[preIndex]           # 1\n",
        "            preIndex-=1                      # 1\n",
        "        arr[preIndex+1] = current                  # 1\n",
        "        print(arr)                           # n\n",
        "    return arr                              # 1\n",
        "\n",
        "if __name__ == '__main__':                         # n\n",
        "    import random                             # 1\n",
        "    a = list(range(16))                         # n\n",
        "    random.shuffle(a)                           # 1\n",
        "    b = a.copy()                             # n\n",
        "\n",
        "    arr = insertionSort(a)                        # n\n",
        "    print('---'*10)                            # 1\n",
        "    Insertion_Sort(b)                           # n\n",
        "                                        #共n*n*n+2n*n+14n+12"
      ],
      "execution_count": null,
      "outputs": [
        {
          "output_type": "stream",
          "text": [
            "[10, 5, 15, 12, 7, 13, 2, 14, 3, 6, 4, 11, 1, 8, 0, 9]\n",
            "[5, 10, 15, 12, 7, 13, 2, 14, 3, 6, 4, 11, 1, 8, 0, 9]\n",
            "[5, 10, 15, 12, 7, 13, 2, 14, 3, 6, 4, 11, 1, 8, 0, 9]\n",
            "[5, 10, 12, 15, 7, 13, 2, 14, 3, 6, 4, 11, 1, 8, 0, 9]\n",
            "[5, 7, 10, 12, 15, 13, 2, 14, 3, 6, 4, 11, 1, 8, 0, 9]\n",
            "[5, 7, 10, 12, 13, 15, 2, 14, 3, 6, 4, 11, 1, 8, 0, 9]\n",
            "[2, 5, 7, 10, 12, 13, 15, 14, 3, 6, 4, 11, 1, 8, 0, 9]\n",
            "[2, 5, 7, 10, 12, 13, 14, 15, 3, 6, 4, 11, 1, 8, 0, 9]\n",
            "[2, 3, 5, 7, 10, 12, 13, 14, 15, 6, 4, 11, 1, 8, 0, 9]\n",
            "[2, 3, 5, 6, 7, 10, 12, 13, 14, 15, 4, 11, 1, 8, 0, 9]\n",
            "[2, 3, 4, 5, 6, 7, 10, 12, 13, 14, 15, 11, 1, 8, 0, 9]\n",
            "[2, 3, 4, 5, 6, 7, 10, 11, 12, 13, 14, 15, 1, 8, 0, 9]\n",
            "[1, 2, 3, 4, 5, 6, 7, 10, 11, 12, 13, 14, 15, 8, 0, 9]\n",
            "[1, 2, 3, 4, 5, 6, 7, 8, 10, 11, 12, 13, 14, 15, 0, 9]\n",
            "[0, 1, 2, 3, 4, 5, 6, 7, 8, 10, 11, 12, 13, 14, 15, 9]\n",
            "[0, 1, 2, 3, 4, 5, 6, 7, 8, 9, 10, 11, 12, 13, 14, 15]\n",
            "------------------------------\n"
          ],
          "name": "stdout"
        }
      ]
    }
  ]
}